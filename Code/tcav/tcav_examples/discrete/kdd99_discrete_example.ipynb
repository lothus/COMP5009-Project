{
 "cells": [
  {
   "cell_type": "code",
   "execution_count": null,
   "metadata": {
    "id": "kSnLYpZ6YZJ0"
   },
   "outputs": [],
   "source": [
    "# Necessary because jupyter restricts relative imports from parent directories\n",
    "import os\n",
    "if os.getcwd().split('/')[-1] != 'tcav':\n",
    "    print(os.getcwd())\n",
    "    os.chdir('../')\n",
    "    os.chdir('../')\n",
    "    os.chdir('../')    \n",
    "    print(os.getcwd())"
   ]
  },
  {
   "cell_type": "code",
   "execution_count": null,
   "metadata": {
    "id": "vEnmU7H8YZJ1"
   },
   "outputs": [],
   "source": [
    "from tensorflow.io import gfile\n",
    "from tcav.tcav_examples.discrete.kdd99_activation_generator import KDD99DiscreteActivationGenerator\n",
    "from tcav.utils import create_session\n",
    "from tcav.tcav_examples.discrete.kdd99_model_wrapper import KDD99KerasModelWrapper\n"
   ]
  },
  {
   "cell_type": "code",
   "execution_count": null,
   "metadata": {
    "id": "0mY7PFNXYZJ2"
   },
   "outputs": [],
   "source": [
    "# Make source directory, \n",
    "source_dir = \"./tcav/tcav_examples/discrete/kdd_sanity2\"\n",
    "working_dir = source_dir\n",
    "acts_dir = os.path.join(working_dir, \"activations\")\n",
    "gfile.makedirs(acts_dir)\n",
    "cav_dir = os.path.join(working_dir, \"cav\")\n",
    "gfile.makedirs(cav_dir)\n"
   ]
  },
  {
   "cell_type": "code",
   "execution_count": null,
   "metadata": {
    "id": "Dq5zqd_VYZJ2",
    "outputId": "0cd19982-df47-4365-d2e2-23c4b7495dd3"
   },
   "outputs": [],
   "source": [
    "# Make data\n",
    "! python ./tcav/tcav_examples/discrete/make_kdd99_concepts.py --source_dir={source_dir}\n"
   ]
  },
  {
   "cell_type": "code",
   "execution_count": null,
   "metadata": {
    "id": "7gN4d9WeYZJ2",
    "outputId": "21453805-3035-43a3-f98e-e16484f9ffd3"
   },
   "outputs": [],
   "source": [
    "# Create models\n",
    "label_path = os.path.join(source_dir, \"labels.txt\")\n",
    "model_path = os.path.join(source_dir, \"kdd99_2.h5\")\n",
    "uci_model = KDD99KerasModelWrapper(create_session(), model_path, label_path)\n",
    "\n"
   ]
  },
  {
   "cell_type": "code",
   "execution_count": null,
   "metadata": {
    "id": "TyZeQGr7YZJ3"
   },
   "outputs": [],
   "source": [
    "# Create activation generator\n",
    "act_gen = KDD99DiscreteActivationGenerator(model=uci_model, source_dir=source_dir, acts_dir=acts_dir, max_examples=200)"
   ]
  },
  {
   "cell_type": "code",
   "execution_count": null,
   "metadata": {
    "id": "ImAqsG-iYZJ3",
    "outputId": "02233430-d173-483f-f058-e07d257e11f5",
    "tags": [
     "outputPrepend"
    ]
   },
   "outputs": [],
   "source": [
    "from tcav.utils import create_session\n",
    "import tcav.utils_plot as utils_plot # utils_plot requires matplotlib\n",
    "from tcav.tcav import TCAV\n",
    "import absl\n",
    "absl.logging.set_verbosity(0)\n",
    "\n",
    "target = \"land.\"\n",
    "bottlenecks = [\"dense\", \"dense_1\" ]\n",
    "concepts = ['dst_host_same_src_port_rate_less_than_one', 'dst_host_same_src_port_rate_more_than_one', \n",
    "            'serror_rate_less_than_one', 'serror_rate_more_than_one']\n",
    "alphas = [0.01]\n",
    "\n",
    "\n",
    "\n",
    "my_tcav = TCAV(create_session,\n",
    "                   target,\n",
    "                   concepts,\n",
    "                   bottlenecks,\n",
    "                   act_gen,\n",
    "                   alphas,\n",
    "                   cav_dir=cav_dir,\n",
    "                   num_random_exp=10)\n",
    "\n",
    "\n",
    "results = my_tcav.run(run_parallel=True)\n"
   ]
  },
  {
   "cell_type": "code",
   "execution_count": null,
   "metadata": {
    "id": "D0PHkt5DYZJ3",
    "outputId": "e1740ca8-0300-4e00-a99f-19897468e68f",
    "scrolled": true
   },
   "outputs": [],
   "source": [
    "utils_plot.plot_results(results, num_random_exp=10)\n",
    "\n"
   ]
  },
  {
   "cell_type": "code",
   "execution_count": null,
   "metadata": {},
   "outputs": [],
   "source": []
  }
 ],
 "metadata": {
  "colab": {
   "name": "kdd99_discrete_example.ipynb",
   "provenance": []
  },
  "kernelspec": {
   "display_name": "Python 3",
   "language": "python",
   "name": "python3"
  },
  "language_info": {
   "codemirror_mode": {
    "name": "ipython",
    "version": 3
   },
   "file_extension": ".py",
   "mimetype": "text/x-python",
   "name": "python",
   "nbconvert_exporter": "python",
   "pygments_lexer": "ipython3",
   "version": "3.6.9-final"
  },
  "pycharm": {
   "stem_cell": {
    "cell_type": "raw",
    "metadata": {
     "collapsed": false
    },
    "source": []
   }
  }
 },
 "nbformat": 4,
 "nbformat_minor": 1
}