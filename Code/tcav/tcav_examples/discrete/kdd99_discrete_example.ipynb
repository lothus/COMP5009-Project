{
 "cells": [
  {
   "cell_type": "code",
   "execution_count": 1,
   "metadata": {
    "id": "kSnLYpZ6YZJ0"
   },
   "outputs": [
    {
     "name": "stdout",
     "output_type": "stream",
     "text": [
      "/code/tcav/tcav_examples/discrete\n",
      "/code\n"
     ]
    }
   ],
   "source": [
    "# Necessary because jupyter restricts relative imports from parent directories\n",
    "import os\n",
    "if os.getcwd().split('/')[-1] != 'tcav':\n",
    "    print(os.getcwd())\n",
    "    os.chdir('../')\n",
    "    os.chdir('../')\n",
    "    os.chdir('../')    \n",
    "    print(os.getcwd())"
   ]
  },
  {
   "cell_type": "code",
   "execution_count": 2,
   "metadata": {
    "id": "vEnmU7H8YZJ1"
   },
   "outputs": [],
   "source": [
    "from tensorflow.io import gfile\n",
    "from tcav.tcav_examples.discrete.kdd99_activation_generator import KDD99DiscreteActivationGenerator\n",
    "from tcav.utils import create_session\n",
    "from tcav.tcav_examples.discrete.kdd99_model_wrapper import KDD99KerasModelWrapper\n"
   ]
  },
  {
   "cell_type": "code",
   "execution_count": 3,
   "metadata": {
    "id": "0mY7PFNXYZJ2"
   },
   "outputs": [],
   "source": [
    "# Make source directory, \n",
    "source_dir = \"./tcav/tcav_examples/discrete/kdd_sanity2\"\n",
    "working_dir = source_dir\n",
    "acts_dir = os.path.join(working_dir, \"activations\")\n",
    "gfile.makedirs(acts_dir)\n",
    "cav_dir = os.path.join(working_dir, \"cav\")\n",
    "gfile.makedirs(cav_dir)\n"
   ]
  },
  {
   "cell_type": "code",
   "execution_count": 4,
   "metadata": {
    "id": "Dq5zqd_VYZJ2",
    "outputId": "0cd19982-df47-4365-d2e2-23c4b7495dd3"
   },
   "outputs": [
    {
     "name": "stdout",
     "output_type": "stream",
     "text": [
      "2021-03-26 18:59:27.860577: I tensorflow/stream_executor/platform/default/dso_loader.cc:49] Successfully opened dynamic library libcudart.so.11.0\n",
      "[[0 b'tcp' b'http' ... 0.0 0.0 0.0]\n",
      " [0 b'tcp' b'http' ... 0.0 0.0 0.0]\n",
      " [0 b'tcp' b'http' ... 0.0 0.0 0.0]\n",
      " ...\n",
      " [0 b'tcp' b'http' ... 0.01 0.0 0.0]\n",
      " [0 b'tcp' b'http' ... 0.01 0.0 0.0]\n",
      " [0 b'tcp' b'http' ... 0.01 0.0 0.0]]\n",
      "[b'normal.' b'normal.' b'normal.' ... b'normal.' b'normal.' b'normal.']\n",
      "Available concepts for KDD99 dataset are: \n",
      "['dst_host_same_src_port_rate_less_than_one', 'dst_host_same_src_port_rate_more_than_one', 'serror_rate_less_than_one', 'serror_rate_more_than_one']\n",
      "\n",
      "\n",
      "Available targets for KDD99 dataset are: \n",
      "[b'normal.' b'buffer_overflow.' b'loadmodule.' b'perl.' b'neptune.'\n",
      " b'smurf.' b'guess_passwd.' b'pod.' b'teardrop.' b'portsweep.' b'ipsweep.'\n",
      " b'land.' b'ftp_write.' b'back.' b'imap.' b'satan.' b'phf.' b'nmap.'\n",
      " b'multihop.' b'warezmaster.' b'warezclient.' b'spy.' b'rootkit.']\n",
      "\n",
      "\n",
      "Created 10 random folders \n",
      "\n",
      "Successfully created data at ./tcav/tcav_examples/discrete/kdd_sanity2\n"
     ]
    }
   ],
   "source": [
    "# Make data\n",
    "! python ./tcav/tcav_examples/discrete/make_kdd99_concepts.py --source_dir={source_dir}\n"
   ]
  },
  {
   "cell_type": "code",
   "execution_count": 5,
   "metadata": {
    "id": "7gN4d9WeYZJ2",
    "outputId": "21453805-3035-43a3-f98e-e16484f9ffd3"
   },
   "outputs": [],
   "source": [
    "# Create models\n",
    "label_path = os.path.join(source_dir, \"labels.txt\")\n",
    "model_path = os.path.join(source_dir, \"kdd99_2.h5\")\n",
    "uci_model = KDD99KerasModelWrapper(create_session(), model_path, label_path)\n",
    "\n"
   ]
  },
  {
   "cell_type": "code",
   "execution_count": 6,
   "metadata": {
    "id": "TyZeQGr7YZJ3"
   },
   "outputs": [],
   "source": [
    "# Create activation generator\n",
    "act_gen = KDD99DiscreteActivationGenerator(model=uci_model, source_dir=source_dir, acts_dir=acts_dir, max_examples=200)"
   ]
  },
  {
   "cell_type": "code",
   "execution_count": 13,
   "metadata": {
    "id": "ImAqsG-iYZJ3",
    "outputId": "02233430-d173-483f-f058-e07d257e11f5"
   },
   "outputs": [
    {
     "name": "stdout",
     "output_type": "stream",
     "text": [
      "INFO:tensorflow:dense ['dst_host_same_src_port_rate_less_than_one', 'random500_0'] guess_passwd. 0.01\n",
      "INFO:tensorflow:dense ['dst_host_same_src_port_rate_less_than_one', 'random500_1'] guess_passwd. 0.01\n",
      "INFO:tensorflow:dense ['dst_host_same_src_port_rate_less_than_one', 'random500_2'] guess_passwd. 0.01\n",
      "INFO:tensorflow:dense ['dst_host_same_src_port_rate_less_than_one', 'random500_3'] guess_passwd. 0.01\n",
      "INFO:tensorflow:dense ['dst_host_same_src_port_rate_less_than_one', 'random500_4'] guess_passwd. 0.01\n",
      "INFO:tensorflow:dense ['dst_host_same_src_port_rate_less_than_one', 'random500_5'] guess_passwd. 0.01\n",
      "INFO:tensorflow:dense ['dst_host_same_src_port_rate_less_than_one', 'random500_6'] guess_passwd. 0.01\n",
      "INFO:tensorflow:dense ['dst_host_same_src_port_rate_less_than_one', 'random500_7'] guess_passwd. 0.01\n",
      "INFO:tensorflow:dense ['dst_host_same_src_port_rate_less_than_one', 'random500_8'] guess_passwd. 0.01\n",
      "INFO:tensorflow:dense ['dst_host_same_src_port_rate_less_than_one', 'random500_9'] guess_passwd. 0.01\n",
      "INFO:tensorflow:dense ['dst_host_same_src_port_rate_more_than_one', 'random500_0'] guess_passwd. 0.01\n",
      "INFO:tensorflow:dense ['dst_host_same_src_port_rate_more_than_one', 'random500_1'] guess_passwd. 0.01\n",
      "INFO:tensorflow:dense ['dst_host_same_src_port_rate_more_than_one', 'random500_2'] guess_passwd. 0.01\n",
      "INFO:tensorflow:dense ['dst_host_same_src_port_rate_more_than_one', 'random500_3'] guess_passwd. 0.01\n",
      "INFO:tensorflow:dense ['dst_host_same_src_port_rate_more_than_one', 'random500_4'] guess_passwd. 0.01\n",
      "INFO:tensorflow:dense ['dst_host_same_src_port_rate_more_than_one', 'random500_5'] guess_passwd. 0.01\n",
      "INFO:tensorflow:dense ['dst_host_same_src_port_rate_more_than_one', 'random500_6'] guess_passwd. 0.01\n",
      "INFO:tensorflow:dense ['dst_host_same_src_port_rate_more_than_one', 'random500_7'] guess_passwd. 0.01\n",
      "INFO:tensorflow:dense ['dst_host_same_src_port_rate_more_than_one', 'random500_8'] guess_passwd. 0.01\n",
      "INFO:tensorflow:dense ['dst_host_same_src_port_rate_more_than_one', 'random500_9'] guess_passwd. 0.01\n",
      "INFO:tensorflow:dense ['serror_rate_less_than_one', 'random500_0'] guess_passwd. 0.01\n",
      "INFO:tensorflow:dense ['serror_rate_less_than_one', 'random500_1'] guess_passwd. 0.01\n",
      "INFO:tensorflow:dense ['serror_rate_less_than_one', 'random500_2'] guess_passwd. 0.01\n",
      "INFO:tensorflow:dense ['serror_rate_less_than_one', 'random500_3'] guess_passwd. 0.01\n",
      "INFO:tensorflow:dense ['serror_rate_less_than_one', 'random500_4'] guess_passwd. 0.01\n",
      "INFO:tensorflow:dense ['serror_rate_less_than_one', 'random500_5'] guess_passwd. 0.01\n",
      "INFO:tensorflow:dense ['serror_rate_less_than_one', 'random500_6'] guess_passwd. 0.01\n",
      "INFO:tensorflow:dense ['serror_rate_less_than_one', 'random500_7'] guess_passwd. 0.01\n",
      "INFO:tensorflow:dense ['serror_rate_less_than_one', 'random500_8'] guess_passwd. 0.01\n",
      "INFO:tensorflow:dense ['serror_rate_less_than_one', 'random500_9'] guess_passwd. 0.01\n",
      "INFO:tensorflow:dense ['serror_rate_more_than_one', 'random500_0'] guess_passwd. 0.01\n",
      "INFO:tensorflow:dense ['serror_rate_more_than_one', 'random500_1'] guess_passwd. 0.01\n",
      "INFO:tensorflow:dense ['serror_rate_more_than_one', 'random500_2'] guess_passwd. 0.01\n",
      "INFO:tensorflow:dense ['serror_rate_more_than_one', 'random500_3'] guess_passwd. 0.01\n",
      "INFO:tensorflow:dense ['serror_rate_more_than_one', 'random500_4'] guess_passwd. 0.01\n",
      "INFO:tensorflow:dense ['serror_rate_more_than_one', 'random500_5'] guess_passwd. 0.01\n",
      "INFO:tensorflow:dense ['serror_rate_more_than_one', 'random500_6'] guess_passwd. 0.01\n",
      "INFO:tensorflow:dense ['serror_rate_more_than_one', 'random500_7'] guess_passwd. 0.01\n",
      "INFO:tensorflow:dense ['serror_rate_more_than_one', 'random500_8'] guess_passwd. 0.01\n",
      "INFO:tensorflow:dense ['serror_rate_more_than_one', 'random500_9'] guess_passwd. 0.01\n",
      "INFO:tensorflow:dense ['random500_0', 'random500_1'] guess_passwd. 0.01\n",
      "INFO:tensorflow:dense ['random500_0', 'random500_2'] guess_passwd. 0.01\n",
      "INFO:tensorflow:dense ['random500_0', 'random500_3'] guess_passwd. 0.01\n",
      "INFO:tensorflow:dense ['random500_0', 'random500_4'] guess_passwd. 0.01\n",
      "INFO:tensorflow:dense ['random500_0', 'random500_5'] guess_passwd. 0.01\n",
      "INFO:tensorflow:dense ['random500_0', 'random500_6'] guess_passwd. 0.01\n",
      "INFO:tensorflow:dense ['random500_0', 'random500_7'] guess_passwd. 0.01\n",
      "INFO:tensorflow:dense ['random500_0', 'random500_8'] guess_passwd. 0.01\n",
      "INFO:tensorflow:dense ['random500_0', 'random500_9'] guess_passwd. 0.01\n",
      "INFO:tensorflow:dense ['random500_1', 'random500_0'] guess_passwd. 0.01\n",
      "INFO:tensorflow:dense ['random500_1', 'random500_2'] guess_passwd. 0.01\n",
      "INFO:tensorflow:dense ['random500_1', 'random500_3'] guess_passwd. 0.01\n",
      "INFO:tensorflow:dense ['random500_1', 'random500_4'] guess_passwd. 0.01\n",
      "INFO:tensorflow:dense ['random500_1', 'random500_5'] guess_passwd. 0.01\n",
      "INFO:tensorflow:dense ['random500_1', 'random500_6'] guess_passwd. 0.01\n",
      "INFO:tensorflow:dense ['random500_1', 'random500_7'] guess_passwd. 0.01\n",
      "INFO:tensorflow:dense ['random500_1', 'random500_8'] guess_passwd. 0.01\n",
      "INFO:tensorflow:dense ['random500_1', 'random500_9'] guess_passwd. 0.01\n",
      "INFO:tensorflow:dense ['random500_2', 'random500_0'] guess_passwd. 0.01\n",
      "INFO:tensorflow:dense ['random500_2', 'random500_1'] guess_passwd. 0.01\n",
      "INFO:tensorflow:dense ['random500_2', 'random500_3'] guess_passwd. 0.01\n",
      "INFO:tensorflow:dense ['random500_2', 'random500_4'] guess_passwd. 0.01\n",
      "INFO:tensorflow:dense ['random500_2', 'random500_5'] guess_passwd. 0.01\n",
      "INFO:tensorflow:dense ['random500_2', 'random500_6'] guess_passwd. 0.01\n",
      "INFO:tensorflow:dense ['random500_2', 'random500_7'] guess_passwd. 0.01\n",
      "INFO:tensorflow:dense ['random500_2', 'random500_8'] guess_passwd. 0.01\n",
      "INFO:tensorflow:dense ['random500_2', 'random500_9'] guess_passwd. 0.01\n",
      "INFO:tensorflow:dense ['random500_3', 'random500_0'] guess_passwd. 0.01\n",
      "INFO:tensorflow:dense ['random500_3', 'random500_1'] guess_passwd. 0.01\n",
      "INFO:tensorflow:dense ['random500_3', 'random500_2'] guess_passwd. 0.01\n",
      "INFO:tensorflow:dense ['random500_3', 'random500_4'] guess_passwd. 0.01\n",
      "INFO:tensorflow:dense ['random500_3', 'random500_5'] guess_passwd. 0.01\n",
      "INFO:tensorflow:dense ['random500_3', 'random500_6'] guess_passwd. 0.01\n",
      "INFO:tensorflow:dense ['random500_3', 'random500_7'] guess_passwd. 0.01\n",
      "INFO:tensorflow:dense ['random500_3', 'random500_8'] guess_passwd. 0.01\n",
      "INFO:tensorflow:dense ['random500_3', 'random500_9'] guess_passwd. 0.01\n",
      "INFO:tensorflow:dense ['random500_4', 'random500_0'] guess_passwd. 0.01\n",
      "INFO:tensorflow:dense ['random500_4', 'random500_1'] guess_passwd. 0.01\n",
      "INFO:tensorflow:dense ['random500_4', 'random500_2'] guess_passwd. 0.01\n",
      "INFO:tensorflow:dense ['random500_4', 'random500_3'] guess_passwd. 0.01\n",
      "INFO:tensorflow:dense ['random500_4', 'random500_5'] guess_passwd. 0.01\n",
      "INFO:tensorflow:dense ['random500_4', 'random500_6'] guess_passwd. 0.01\n",
      "INFO:tensorflow:dense ['random500_4', 'random500_7'] guess_passwd. 0.01\n",
      "INFO:tensorflow:dense ['random500_4', 'random500_8'] guess_passwd. 0.01\n",
      "INFO:tensorflow:dense ['random500_4', 'random500_9'] guess_passwd. 0.01\n",
      "INFO:tensorflow:dense ['random500_5', 'random500_0'] guess_passwd. 0.01\n",
      "INFO:tensorflow:dense ['random500_5', 'random500_1'] guess_passwd. 0.01\n",
      "INFO:tensorflow:dense ['random500_5', 'random500_2'] guess_passwd. 0.01\n",
      "INFO:tensorflow:dense ['random500_5', 'random500_3'] guess_passwd. 0.01\n",
      "INFO:tensorflow:dense ['random500_5', 'random500_4'] guess_passwd. 0.01\n",
      "INFO:tensorflow:dense ['random500_5', 'random500_6'] guess_passwd. 0.01\n",
      "INFO:tensorflow:dense ['random500_5', 'random500_7'] guess_passwd. 0.01\n",
      "INFO:tensorflow:dense ['random500_5', 'random500_8'] guess_passwd. 0.01\n",
      "INFO:tensorflow:dense ['random500_5', 'random500_9'] guess_passwd. 0.01\n",
      "INFO:tensorflow:dense ['random500_6', 'random500_0'] guess_passwd. 0.01\n",
      "INFO:tensorflow:dense ['random500_6', 'random500_1'] guess_passwd. 0.01\n",
      "INFO:tensorflow:dense ['random500_6', 'random500_2'] guess_passwd. 0.01\n",
      "INFO:tensorflow:dense ['random500_6', 'random500_3'] guess_passwd. 0.01\n",
      "INFO:tensorflow:dense ['random500_6', 'random500_4'] guess_passwd. 0.01\n",
      "INFO:tensorflow:dense ['random500_6', 'random500_5'] guess_passwd. 0.01\n",
      "INFO:tensorflow:dense ['random500_6', 'random500_7'] guess_passwd. 0.01\n",
      "INFO:tensorflow:dense ['random500_6', 'random500_8'] guess_passwd. 0.01\n"
     ]
    },
    {
     "name": "stdout",
     "output_type": "stream",
     "text": [
      "INFO:tensorflow:dense ['random500_6', 'random500_9'] guess_passwd. 0.01\n",
      "INFO:tensorflow:dense ['random500_7', 'random500_0'] guess_passwd. 0.01\n",
      "INFO:tensorflow:dense ['random500_7', 'random500_1'] guess_passwd. 0.01\n",
      "INFO:tensorflow:dense ['random500_7', 'random500_2'] guess_passwd. 0.01\n",
      "INFO:tensorflow:dense ['random500_7', 'random500_3'] guess_passwd. 0.01\n",
      "INFO:tensorflow:dense ['random500_7', 'random500_4'] guess_passwd. 0.01\n",
      "INFO:tensorflow:dense ['random500_7', 'random500_5'] guess_passwd. 0.01\n",
      "INFO:tensorflow:dense ['random500_7', 'random500_6'] guess_passwd. 0.01\n",
      "INFO:tensorflow:dense ['random500_7', 'random500_8'] guess_passwd. 0.01\n",
      "INFO:tensorflow:dense ['random500_7', 'random500_9'] guess_passwd. 0.01\n",
      "INFO:tensorflow:dense ['random500_8', 'random500_0'] guess_passwd. 0.01\n",
      "INFO:tensorflow:dense ['random500_8', 'random500_1'] guess_passwd. 0.01\n",
      "INFO:tensorflow:dense ['random500_8', 'random500_2'] guess_passwd. 0.01\n",
      "INFO:tensorflow:dense ['random500_8', 'random500_3'] guess_passwd. 0.01\n",
      "INFO:tensorflow:dense ['random500_8', 'random500_4'] guess_passwd. 0.01\n",
      "INFO:tensorflow:dense ['random500_8', 'random500_5'] guess_passwd. 0.01\n",
      "INFO:tensorflow:dense ['random500_8', 'random500_6'] guess_passwd. 0.01\n",
      "INFO:tensorflow:dense ['random500_8', 'random500_7'] guess_passwd. 0.01\n",
      "INFO:tensorflow:dense ['random500_8', 'random500_9'] guess_passwd. 0.01\n",
      "INFO:tensorflow:dense ['random500_9', 'random500_0'] guess_passwd. 0.01\n",
      "INFO:tensorflow:dense ['random500_9', 'random500_1'] guess_passwd. 0.01\n",
      "INFO:tensorflow:dense ['random500_9', 'random500_2'] guess_passwd. 0.01\n",
      "INFO:tensorflow:dense ['random500_9', 'random500_3'] guess_passwd. 0.01\n",
      "INFO:tensorflow:dense ['random500_9', 'random500_4'] guess_passwd. 0.01\n",
      "INFO:tensorflow:dense ['random500_9', 'random500_5'] guess_passwd. 0.01\n",
      "INFO:tensorflow:dense ['random500_9', 'random500_6'] guess_passwd. 0.01\n",
      "INFO:tensorflow:dense ['random500_9', 'random500_7'] guess_passwd. 0.01\n",
      "INFO:tensorflow:dense ['random500_9', 'random500_8'] guess_passwd. 0.01\n",
      "INFO:tensorflow:dense_1 ['dst_host_same_src_port_rate_less_than_one', 'random500_0'] guess_passwd. 0.01\n",
      "INFO:tensorflow:dense_1 ['dst_host_same_src_port_rate_less_than_one', 'random500_1'] guess_passwd. 0.01\n",
      "INFO:tensorflow:dense_1 ['dst_host_same_src_port_rate_less_than_one', 'random500_2'] guess_passwd. 0.01\n",
      "INFO:tensorflow:dense_1 ['dst_host_same_src_port_rate_less_than_one', 'random500_3'] guess_passwd. 0.01\n",
      "INFO:tensorflow:dense_1 ['dst_host_same_src_port_rate_less_than_one', 'random500_4'] guess_passwd. 0.01\n",
      "INFO:tensorflow:dense_1 ['dst_host_same_src_port_rate_less_than_one', 'random500_5'] guess_passwd. 0.01\n",
      "INFO:tensorflow:dense_1 ['dst_host_same_src_port_rate_less_than_one', 'random500_6'] guess_passwd. 0.01\n",
      "INFO:tensorflow:dense_1 ['dst_host_same_src_port_rate_less_than_one', 'random500_7'] guess_passwd. 0.01\n",
      "INFO:tensorflow:dense_1 ['dst_host_same_src_port_rate_less_than_one', 'random500_8'] guess_passwd. 0.01\n",
      "INFO:tensorflow:dense_1 ['dst_host_same_src_port_rate_less_than_one', 'random500_9'] guess_passwd. 0.01\n",
      "INFO:tensorflow:dense_1 ['dst_host_same_src_port_rate_more_than_one', 'random500_0'] guess_passwd. 0.01\n",
      "INFO:tensorflow:dense_1 ['dst_host_same_src_port_rate_more_than_one', 'random500_1'] guess_passwd. 0.01\n",
      "INFO:tensorflow:dense_1 ['dst_host_same_src_port_rate_more_than_one', 'random500_2'] guess_passwd. 0.01\n",
      "INFO:tensorflow:dense_1 ['dst_host_same_src_port_rate_more_than_one', 'random500_3'] guess_passwd. 0.01\n",
      "INFO:tensorflow:dense_1 ['dst_host_same_src_port_rate_more_than_one', 'random500_4'] guess_passwd. 0.01\n",
      "INFO:tensorflow:dense_1 ['dst_host_same_src_port_rate_more_than_one', 'random500_5'] guess_passwd. 0.01\n",
      "INFO:tensorflow:dense_1 ['dst_host_same_src_port_rate_more_than_one', 'random500_6'] guess_passwd. 0.01\n",
      "INFO:tensorflow:dense_1 ['dst_host_same_src_port_rate_more_than_one', 'random500_7'] guess_passwd. 0.01\n",
      "INFO:tensorflow:dense_1 ['dst_host_same_src_port_rate_more_than_one', 'random500_8'] guess_passwd. 0.01\n",
      "INFO:tensorflow:dense_1 ['dst_host_same_src_port_rate_more_than_one', 'random500_9'] guess_passwd. 0.01\n",
      "INFO:tensorflow:dense_1 ['serror_rate_less_than_one', 'random500_0'] guess_passwd. 0.01\n",
      "INFO:tensorflow:dense_1 ['serror_rate_less_than_one', 'random500_1'] guess_passwd. 0.01\n",
      "INFO:tensorflow:dense_1 ['serror_rate_less_than_one', 'random500_2'] guess_passwd. 0.01\n",
      "INFO:tensorflow:dense_1 ['serror_rate_less_than_one', 'random500_3'] guess_passwd. 0.01\n",
      "INFO:tensorflow:dense_1 ['serror_rate_less_than_one', 'random500_4'] guess_passwd. 0.01\n",
      "INFO:tensorflow:dense_1 ['serror_rate_less_than_one', 'random500_5'] guess_passwd. 0.01\n",
      "INFO:tensorflow:dense_1 ['serror_rate_less_than_one', 'random500_6'] guess_passwd. 0.01\n",
      "INFO:tensorflow:dense_1 ['serror_rate_less_than_one', 'random500_7'] guess_passwd. 0.01\n",
      "INFO:tensorflow:dense_1 ['serror_rate_less_than_one', 'random500_8'] guess_passwd. 0.01\n",
      "INFO:tensorflow:dense_1 ['serror_rate_less_than_one', 'random500_9'] guess_passwd. 0.01\n",
      "INFO:tensorflow:dense_1 ['serror_rate_more_than_one', 'random500_0'] guess_passwd. 0.01\n",
      "INFO:tensorflow:dense_1 ['serror_rate_more_than_one', 'random500_1'] guess_passwd. 0.01\n",
      "INFO:tensorflow:dense_1 ['serror_rate_more_than_one', 'random500_2'] guess_passwd. 0.01\n",
      "INFO:tensorflow:dense_1 ['serror_rate_more_than_one', 'random500_3'] guess_passwd. 0.01\n",
      "INFO:tensorflow:dense_1 ['serror_rate_more_than_one', 'random500_4'] guess_passwd. 0.01\n",
      "INFO:tensorflow:dense_1 ['serror_rate_more_than_one', 'random500_5'] guess_passwd. 0.01\n",
      "INFO:tensorflow:dense_1 ['serror_rate_more_than_one', 'random500_6'] guess_passwd. 0.01\n",
      "INFO:tensorflow:dense_1 ['serror_rate_more_than_one', 'random500_7'] guess_passwd. 0.01\n",
      "INFO:tensorflow:dense_1 ['serror_rate_more_than_one', 'random500_8'] guess_passwd. 0.01\n",
      "INFO:tensorflow:dense_1 ['serror_rate_more_than_one', 'random500_9'] guess_passwd. 0.01\n",
      "INFO:tensorflow:dense_1 ['random500_0', 'random500_1'] guess_passwd. 0.01\n",
      "INFO:tensorflow:dense_1 ['random500_0', 'random500_2'] guess_passwd. 0.01\n",
      "INFO:tensorflow:dense_1 ['random500_0', 'random500_3'] guess_passwd. 0.01\n",
      "INFO:tensorflow:dense_1 ['random500_0', 'random500_4'] guess_passwd. 0.01\n",
      "INFO:tensorflow:dense_1 ['random500_0', 'random500_5'] guess_passwd. 0.01\n",
      "INFO:tensorflow:dense_1 ['random500_0', 'random500_6'] guess_passwd. 0.01\n",
      "INFO:tensorflow:dense_1 ['random500_0', 'random500_7'] guess_passwd. 0.01\n",
      "INFO:tensorflow:dense_1 ['random500_0', 'random500_8'] guess_passwd. 0.01\n",
      "INFO:tensorflow:dense_1 ['random500_0', 'random500_9'] guess_passwd. 0.01\n",
      "INFO:tensorflow:dense_1 ['random500_1', 'random500_0'] guess_passwd. 0.01\n",
      "INFO:tensorflow:dense_1 ['random500_1', 'random500_2'] guess_passwd. 0.01\n",
      "INFO:tensorflow:dense_1 ['random500_1', 'random500_3'] guess_passwd. 0.01\n",
      "INFO:tensorflow:dense_1 ['random500_1', 'random500_4'] guess_passwd. 0.01\n",
      "INFO:tensorflow:dense_1 ['random500_1', 'random500_5'] guess_passwd. 0.01\n",
      "INFO:tensorflow:dense_1 ['random500_1', 'random500_6'] guess_passwd. 0.01\n",
      "INFO:tensorflow:dense_1 ['random500_1', 'random500_7'] guess_passwd. 0.01\n",
      "INFO:tensorflow:dense_1 ['random500_1', 'random500_8'] guess_passwd. 0.01\n",
      "INFO:tensorflow:dense_1 ['random500_1', 'random500_9'] guess_passwd. 0.01\n",
      "INFO:tensorflow:dense_1 ['random500_2', 'random500_0'] guess_passwd. 0.01\n",
      "INFO:tensorflow:dense_1 ['random500_2', 'random500_1'] guess_passwd. 0.01\n",
      "INFO:tensorflow:dense_1 ['random500_2', 'random500_3'] guess_passwd. 0.01\n",
      "INFO:tensorflow:dense_1 ['random500_2', 'random500_4'] guess_passwd. 0.01\n",
      "INFO:tensorflow:dense_1 ['random500_2', 'random500_5'] guess_passwd. 0.01\n",
      "INFO:tensorflow:dense_1 ['random500_2', 'random500_6'] guess_passwd. 0.01\n",
      "INFO:tensorflow:dense_1 ['random500_2', 'random500_7'] guess_passwd. 0.01\n",
      "INFO:tensorflow:dense_1 ['random500_2', 'random500_8'] guess_passwd. 0.01\n",
      "INFO:tensorflow:dense_1 ['random500_2', 'random500_9'] guess_passwd. 0.01\n",
      "INFO:tensorflow:dense_1 ['random500_3', 'random500_0'] guess_passwd. 0.01\n",
      "INFO:tensorflow:dense_1 ['random500_3', 'random500_1'] guess_passwd. 0.01\n",
      "INFO:tensorflow:dense_1 ['random500_3', 'random500_2'] guess_passwd. 0.01\n",
      "INFO:tensorflow:dense_1 ['random500_3', 'random500_4'] guess_passwd. 0.01\n",
      "INFO:tensorflow:dense_1 ['random500_3', 'random500_5'] guess_passwd. 0.01\n"
     ]
    },
    {
     "name": "stdout",
     "output_type": "stream",
     "text": [
      "INFO:tensorflow:dense_1 ['random500_3', 'random500_6'] guess_passwd. 0.01\n",
      "INFO:tensorflow:dense_1 ['random500_3', 'random500_7'] guess_passwd. 0.01\n",
      "INFO:tensorflow:dense_1 ['random500_3', 'random500_8'] guess_passwd. 0.01\n",
      "INFO:tensorflow:dense_1 ['random500_3', 'random500_9'] guess_passwd. 0.01\n",
      "INFO:tensorflow:dense_1 ['random500_4', 'random500_0'] guess_passwd. 0.01\n",
      "INFO:tensorflow:dense_1 ['random500_4', 'random500_1'] guess_passwd. 0.01\n",
      "INFO:tensorflow:dense_1 ['random500_4', 'random500_2'] guess_passwd. 0.01\n",
      "INFO:tensorflow:dense_1 ['random500_4', 'random500_3'] guess_passwd. 0.01\n",
      "INFO:tensorflow:dense_1 ['random500_4', 'random500_5'] guess_passwd. 0.01\n",
      "INFO:tensorflow:dense_1 ['random500_4', 'random500_6'] guess_passwd. 0.01\n",
      "INFO:tensorflow:dense_1 ['random500_4', 'random500_7'] guess_passwd. 0.01\n",
      "INFO:tensorflow:dense_1 ['random500_4', 'random500_8'] guess_passwd. 0.01\n",
      "INFO:tensorflow:dense_1 ['random500_4', 'random500_9'] guess_passwd. 0.01\n",
      "INFO:tensorflow:dense_1 ['random500_5', 'random500_0'] guess_passwd. 0.01\n",
      "INFO:tensorflow:dense_1 ['random500_5', 'random500_1'] guess_passwd. 0.01\n",
      "INFO:tensorflow:dense_1 ['random500_5', 'random500_2'] guess_passwd. 0.01\n",
      "INFO:tensorflow:dense_1 ['random500_5', 'random500_3'] guess_passwd. 0.01\n",
      "INFO:tensorflow:dense_1 ['random500_5', 'random500_4'] guess_passwd. 0.01\n",
      "INFO:tensorflow:dense_1 ['random500_5', 'random500_6'] guess_passwd. 0.01\n",
      "INFO:tensorflow:dense_1 ['random500_5', 'random500_7'] guess_passwd. 0.01\n",
      "INFO:tensorflow:dense_1 ['random500_5', 'random500_8'] guess_passwd. 0.01\n",
      "INFO:tensorflow:dense_1 ['random500_5', 'random500_9'] guess_passwd. 0.01\n",
      "INFO:tensorflow:dense_1 ['random500_6', 'random500_0'] guess_passwd. 0.01\n",
      "INFO:tensorflow:dense_1 ['random500_6', 'random500_1'] guess_passwd. 0.01\n",
      "INFO:tensorflow:dense_1 ['random500_6', 'random500_2'] guess_passwd. 0.01\n",
      "INFO:tensorflow:dense_1 ['random500_6', 'random500_3'] guess_passwd. 0.01\n",
      "INFO:tensorflow:dense_1 ['random500_6', 'random500_4'] guess_passwd. 0.01\n",
      "INFO:tensorflow:dense_1 ['random500_6', 'random500_5'] guess_passwd. 0.01\n",
      "INFO:tensorflow:dense_1 ['random500_6', 'random500_7'] guess_passwd. 0.01\n",
      "INFO:tensorflow:dense_1 ['random500_6', 'random500_8'] guess_passwd. 0.01\n",
      "INFO:tensorflow:dense_1 ['random500_6', 'random500_9'] guess_passwd. 0.01\n",
      "INFO:tensorflow:dense_1 ['random500_7', 'random500_0'] guess_passwd. 0.01\n",
      "INFO:tensorflow:dense_1 ['random500_7', 'random500_1'] guess_passwd. 0.01\n",
      "INFO:tensorflow:dense_1 ['random500_7', 'random500_2'] guess_passwd. 0.01\n",
      "INFO:tensorflow:dense_1 ['random500_7', 'random500_3'] guess_passwd. 0.01\n",
      "INFO:tensorflow:dense_1 ['random500_7', 'random500_4'] guess_passwd. 0.01\n",
      "INFO:tensorflow:dense_1 ['random500_7', 'random500_5'] guess_passwd. 0.01\n",
      "INFO:tensorflow:dense_1 ['random500_7', 'random500_6'] guess_passwd. 0.01\n",
      "INFO:tensorflow:dense_1 ['random500_7', 'random500_8'] guess_passwd. 0.01\n",
      "INFO:tensorflow:dense_1 ['random500_7', 'random500_9'] guess_passwd. 0.01\n",
      "INFO:tensorflow:dense_1 ['random500_8', 'random500_0'] guess_passwd. 0.01\n",
      "INFO:tensorflow:dense_1 ['random500_8', 'random500_1'] guess_passwd. 0.01\n",
      "INFO:tensorflow:dense_1 ['random500_8', 'random500_2'] guess_passwd. 0.01\n",
      "INFO:tensorflow:dense_1 ['random500_8', 'random500_3'] guess_passwd. 0.01\n",
      "INFO:tensorflow:dense_1 ['random500_8', 'random500_4'] guess_passwd. 0.01\n",
      "INFO:tensorflow:dense_1 ['random500_8', 'random500_5'] guess_passwd. 0.01\n",
      "INFO:tensorflow:dense_1 ['random500_8', 'random500_6'] guess_passwd. 0.01\n",
      "INFO:tensorflow:dense_1 ['random500_8', 'random500_7'] guess_passwd. 0.01\n",
      "INFO:tensorflow:dense_1 ['random500_8', 'random500_9'] guess_passwd. 0.01\n",
      "INFO:tensorflow:dense_1 ['random500_9', 'random500_0'] guess_passwd. 0.01\n",
      "INFO:tensorflow:dense_1 ['random500_9', 'random500_1'] guess_passwd. 0.01\n",
      "INFO:tensorflow:dense_1 ['random500_9', 'random500_2'] guess_passwd. 0.01\n",
      "INFO:tensorflow:dense_1 ['random500_9', 'random500_3'] guess_passwd. 0.01\n",
      "INFO:tensorflow:dense_1 ['random500_9', 'random500_4'] guess_passwd. 0.01\n",
      "INFO:tensorflow:dense_1 ['random500_9', 'random500_5'] guess_passwd. 0.01\n",
      "INFO:tensorflow:dense_1 ['random500_9', 'random500_6'] guess_passwd. 0.01\n",
      "INFO:tensorflow:dense_1 ['random500_9', 'random500_7'] guess_passwd. 0.01\n",
      "INFO:tensorflow:dense_1 ['random500_9', 'random500_8'] guess_passwd. 0.01\n",
      "INFO:tensorflow:TCAV will 260 params\n"
     ]
    },
    {
     "ename": "NameError",
     "evalue": "name 'run_parallel' is not defined",
     "output_type": "error",
     "traceback": [
      "\u001b[0;31m---------------------------------------------------------------------------\u001b[0m",
      "\u001b[0;31mNameError\u001b[0m                                 Traceback (most recent call last)",
      "\u001b[0;32m<ipython-input-13-25561b6494a3>\u001b[0m in \u001b[0;36m<module>\u001b[0;34m\u001b[0m\n\u001b[1;32m     23\u001b[0m \u001b[0;34m\u001b[0m\u001b[0m\n\u001b[1;32m     24\u001b[0m \u001b[0;34m\u001b[0m\u001b[0m\n\u001b[0;32m---> 25\u001b[0;31m \u001b[0mresults\u001b[0m \u001b[0;34m=\u001b[0m \u001b[0mmy_tcav\u001b[0m\u001b[0;34m.\u001b[0m\u001b[0mrun\u001b[0m\u001b[0;34m(\u001b[0m\u001b[0mrun_parallel\u001b[0m\u001b[0;34m)\u001b[0m\u001b[0;34m\u001b[0m\u001b[0;34m\u001b[0m\u001b[0m\n\u001b[0m",
      "\u001b[0;31mNameError\u001b[0m: name 'run_parallel' is not defined"
     ]
    }
   ],
   "source": [
    "from tcav.utils import create_session\n",
    "import tcav.utils_plot as utils_plot # utils_plot requires matplotlib\n",
    "from tcav.tcav import TCAV\n",
    "import absl\n",
    "absl.logging.set_verbosity(0)\n",
    "\n",
    "target = \"guess_passwd.\"\n",
    "bottlenecks = [\"dense\", \"dense_1\" ]\n",
    "concepts = ['dst_host_same_src_port_rate_less_than_one', 'dst_host_same_src_port_rate_more_than_one', \n",
    "            'serror_rate_less_than_one', 'serror_rate_more_than_one']\n",
    "alphas = [0.01]\n",
    "\n",
    "\n",
    "\n",
    "my_tcav = TCAV(create_session,\n",
    "                   target,\n",
    "                   concepts,\n",
    "                   bottlenecks,\n",
    "                   act_gen,\n",
    "                   alphas,\n",
    "                   cav_dir=cav_dir,\n",
    "                   num_random_exp=10)\n",
    "\n",
    "\n",
    "results = my_tcav.run(run_parallel)\n"
   ]
  },
  {
   "cell_type": "code",
   "execution_count": 14,
   "metadata": {
    "id": "D0PHkt5DYZJ3",
    "outputId": "e1740ca8-0300-4e00-a99f-19897468e68f",
    "scrolled": true
   },
   "outputs": [
    {
     "name": "stdout",
     "output_type": "stream",
     "text": [
      "Class = guess_passwd.\n",
      "  Concept = dst_host_same_src_port_rate_less_than_one\n",
      "    Bottleneck = dense. TCAV Score = 0.60 (+- 0.49), random was 0.51 (+- 0.50). p-val = 0.598 (not significant)\n",
      "    Bottleneck = dense_1. TCAV Score = 0.22 (+- 0.39), random was 0.47 (+- 0.50). p-val = 0.139 (not significant)\n",
      "  Concept = dst_host_same_src_port_rate_more_than_one\n",
      "    Bottleneck = dense. TCAV Score = 0.11 (+- 0.30), random was 0.51 (+- 0.50). p-val = 0.016 (significant)\n",
      "    Bottleneck = dense_1. TCAV Score = 0.20 (+- 0.40), random was 0.47 (+- 0.50). p-val = 0.107 (not significant)\n",
      "  Concept = serror_rate_less_than_one\n",
      "    Bottleneck = dense. TCAV Score = 0.60 (+- 0.49), random was 0.51 (+- 0.50). p-val = 0.598 (not significant)\n",
      "    Bottleneck = dense_1. TCAV Score = 0.10 (+- 0.30), random was 0.47 (+- 0.50). p-val = 0.027 (significant)\n",
      "  Concept = serror_rate_more_than_one\n",
      "    Bottleneck = dense. TCAV Score = 0.90 (+- 0.30), random was 0.51 (+- 0.50). p-val = 0.019 (significant)\n",
      "    Bottleneck = dense_1. TCAV Score = 0.90 (+- 0.30), random was 0.47 (+- 0.50). p-val = 0.009 (significant)\n",
      "{'dense': {'bn_vals': [0.01, 0.11132075471698114, 0.01, 0.9], 'bn_stds': [0, 0.29814306036341387, 0, 0.30000000000000004], 'significant': [False, True, False, True]}, 'dense_1': {'bn_vals': [0.01, 0.01, 0.10377358490566038, 0.9], 'bn_stds': [0, 0, 0.29895391368274477, 0.30000000000000004], 'significant': [False, False, True, True]}}\n"
     ]
    },
    {
     "data": {
      "image/png": "[encoded data removed]",
      "text/plain": [
       "<Figure size 432x288 with 1 Axes>"
      ]
     },
     "metadata": {
      "needs_background": "light"
     },
     "output_type": "display_data"
    }
   ],
   "source": [
    "utils_plot.plot_results(results, num_random_exp=10)\n",
    "\n"
   ]
  },
  {
   "cell_type": "code",
   "execution_count": 10,
   "metadata": {
    "id": "6G0fMWYgYZJ4"
   },
   "outputs": [
    {
     "name": "stdout",
     "output_type": "stream",
     "text": [
      "Class = imap.\n",
      "  Concept = dst_host_same_src_port_rate_less_than_one\n",
      "    Bottleneck = dense. TCAV Score = 0.82 (+- 0.37), random was 0.46 (+- 0.49). p-val = 0.027 (significant)\n",
      "    Bottleneck = dense_1. TCAV Score = 0.95 (+- 0.15), random was 0.46 (+- 0.48). p-val = 0.002 (significant)\n",
      "  Concept = dst_host_same_src_port_rate_more_than_one\n",
      "    Bottleneck = dense. TCAV Score = 0.52 (+- 0.48), random was 0.46 (+- 0.49). p-val = 0.677 (not significant)\n",
      "    Bottleneck = dense_1. TCAV Score = 0.48 (+- 0.45), random was 0.46 (+- 0.48). p-val = 0.878 (not significant)\n",
      "  Concept = serror_rate_less_than_one\n",
      "    Bottleneck = dense. TCAV Score = 0.74 (+- 0.35), random was 0.46 (+- 0.49). p-val = 0.079 (not significant)\n",
      "    Bottleneck = dense_1. TCAV Score = 0.92 (+- 0.25), random was 0.46 (+- 0.48). p-val = 0.004 (significant)\n",
      "  Concept = serror_rate_more_than_one\n",
      "    Bottleneck = dense. TCAV Score = 0.90 (+- 0.30), random was 0.46 (+- 0.49). p-val = 0.006 (significant)\n",
      "    Bottleneck = dense_1. TCAV Score = 0.90 (+- 0.30), random was 0.46 (+- 0.48). p-val = 0.006 (significant)\n"
     ]
    }
   ],
   "source": [
    "from tcav.utils import print_results\n",
    "print_results(results)"
   ]
  },
  {
   "cell_type": "code",
   "execution_count": null,
   "metadata": {},
   "outputs": [],
   "source": []
  }
 ],
 "metadata": {
  "colab": {
   "name": "kdd99_discrete_example.ipynb",
   "provenance": []
  },
  "kernelspec": {
   "display_name": "Python 3",
   "language": "python",
   "name": "python3"
  },
  "language_info": {
   "codemirror_mode": {
    "name": "ipython",
    "version": 3
   },
   "file_extension": ".py",
   "mimetype": "text/x-python",
   "name": "python",
   "nbconvert_exporter": "python",
   "pygments_lexer": "ipython3",
   "version": "3.6.9"
  },
  "pycharm": {
   "stem_cell": {
    "cell_type": "raw",
    "metadata": {
     "collapsed": false
    },
    "source": []
   }
  }
 },
 "nbformat": 4,
 "nbformat_minor": 1
}
