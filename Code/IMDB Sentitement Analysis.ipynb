{
 "cells": [
  {
   "cell_type": "markdown",
   "metadata": {},
   "source": [
    "# Creating an IMDB sentiment analysis Model\n",
    "\n",
    "This notebook will create a model and then we will use TCAVs to analyse the model and see what labels make it decide if it's good or bad. "
   ]
  },
  {
   "cell_type": "code",
   "execution_count": 1,
   "metadata": {},
   "outputs": [],
   "source": [
    "import tensorflow as tf\n",
    "import numpy as np\n",
    "import tensorflow_datasets as tfds\n",
    "from tensorflow import keras"
   ]
  },
  {
   "cell_type": "markdown",
   "metadata": {},
   "source": [
    "now let's create the dataset for imdb"
   ]
  },
  {
   "cell_type": "code",
   "execution_count": 2,
   "metadata": {},
   "outputs": [],
   "source": [
    "dir_path = \"/code/tcav/tcav_examples/IMDB_Data/\"\n",
    "imdb,info = tfds.load(\"imdb_reviews\",with_info=True,as_supervised=True,data_dir=dir_path,download=True)"
   ]
  },
  {
   "cell_type": "markdown",
   "metadata": {},
   "source": [
    "   Get the data ready for training and testing"
   ]
  },
  {
   "cell_type": "code",
   "execution_count": 3,
   "metadata": {},
   "outputs": [],
   "source": [
    "train_data, test_data = imdb['train'], imdb['test']\n",
    "training_sentences = []\n",
    "training_labels = []\n",
    "\n",
    "testing_sentences = []\n",
    "testing_labels = []\n",
    "for s,l in train_data:\n",
    "  training_sentences.append(str(s.numpy()))\n",
    "  training_labels.append(l.numpy())\n",
    "  \n",
    "for s,l in test_data:\n",
    "  testing_sentences.append(str(s.numpy()))\n",
    "  testing_labels.append(l.numpy())\n",
    "  \n",
    "training_labels_final = np.array(training_labels)\n",
    "testing_labels_final = np.array(testing_labels)"
   ]
  },
  {
   "cell_type": "markdown",
   "metadata": {},
   "source": [
    "Tokenize the text"
   ]
  },
  {
   "cell_type": "code",
   "execution_count": 4,
   "metadata": {},
   "outputs": [],
   "source": [
    "vocab_size = 10000\n",
    "embedding_dim = 16\n",
    "max_length = 100\n",
    "trunc_type='post'\n",
    "oov_tok = \"<OOV>\"\n",
    "\n",
    "from tensorflow.keras.preprocessing.text import Tokenizer\n",
    "\n",
    "tokenizer = Tokenizer(num_words = vocab_size, oov_token=oov_tok)\n",
    "tokenizer.fit_on_texts(training_sentences)\n",
    "word_index = tokenizer.word_index"
   ]
  },
  {
   "cell_type": "markdown",
   "metadata": {},
   "source": [
    "Doing NLP sequencing of the IMDB data"
   ]
  },
  {
   "cell_type": "code",
   "execution_count": 5,
   "metadata": {},
   "outputs": [],
   "source": [
    "from tensorflow.keras.preprocessing.sequence import pad_sequences\n",
    "sequences = tokenizer.texts_to_sequences(training_sentences)"
   ]
  },
  {
   "cell_type": "markdown",
   "metadata": {},
   "source": [
    "Padding the lenghts so that the input is always the same size"
   ]
  },
  {
   "cell_type": "code",
   "execution_count": 6,
   "metadata": {},
   "outputs": [],
   "source": [
    "padded = pad_sequences(sequences,maxlen=max_length, truncating=trunc_type)\n",
    "testing_sequences = tokenizer.texts_to_sequences(testing_sentences)\n",
    "testing_padded = pad_sequences(testing_sequences,maxlen=max_length)"
   ]
  },
  {
   "cell_type": "markdown",
   "metadata": {},
   "source": [
    "We will now create the Model that will be modified for TCAV later"
   ]
  },
  {
   "cell_type": "code",
   "execution_count": 7,
   "metadata": {},
   "outputs": [
    {
     "name": "stdout",
     "output_type": "stream",
     "text": [
      "Model: \"sequential\"\n",
      "_________________________________________________________________\n",
      "Layer (type)                 Output Shape              Param #   \n",
      "=================================================================\n",
      "embedding (Embedding)        (None, 100, 16)           160000    \n",
      "_________________________________________________________________\n",
      "flatten (Flatten)            (None, 1600)              0         \n",
      "_________________________________________________________________\n",
      "dense (Dense)                (None, 24)                38424     \n",
      "_________________________________________________________________\n",
      "dense_1 (Dense)              (None, 1)                 25        \n",
      "=================================================================\n",
      "Total params: 198,449\n",
      "Trainable params: 198,449\n",
      "Non-trainable params: 0\n",
      "_________________________________________________________________\n"
     ]
    }
   ],
   "source": [
    "model = tf.keras.Sequential([\n",
    "    tf.keras.layers.Embedding(vocab_size, embedding_dim, input_length=max_length),\n",
    "    tf.keras.layers.Flatten(),\n",
    "    tf.keras.layers.Dense(24, activation='relu'),\n",
    "    tf.keras.layers.Dense(1, activation='sigmoid')\n",
    "])\n",
    "model.compile(loss='binary_crossentropy',optimizer='adam',metrics=['accuracy'])\n",
    "model.summary()"
   ]
  },
  {
   "cell_type": "markdown",
   "metadata": {},
   "source": [
    "Now let's train this model"
   ]
  },
  {
   "cell_type": "code",
   "execution_count": 8,
   "metadata": {},
   "outputs": [
    {
     "name": "stdout",
     "output_type": "stream",
     "text": [
      "Epoch 1/10\n",
      "782/782 [==============================] - 3s 3ms/step - loss: 0.5916 - accuracy: 0.6451 - val_loss: 0.3755 - val_accuracy: 0.8316\n",
      "Epoch 2/10\n",
      "782/782 [==============================] - 2s 3ms/step - loss: 0.2342 - accuracy: 0.9140 - val_loss: 0.4441 - val_accuracy: 0.8049\n",
      "Epoch 3/10\n",
      "782/782 [==============================] - 2s 3ms/step - loss: 0.0659 - accuracy: 0.9859 - val_loss: 0.5906 - val_accuracy: 0.7981\n",
      "Epoch 4/10\n",
      "782/782 [==============================] - 2s 3ms/step - loss: 0.0122 - accuracy: 0.9987 - val_loss: 0.6959 - val_accuracy: 0.8005\n",
      "Epoch 5/10\n",
      "782/782 [==============================] - 2s 3ms/step - loss: 0.0020 - accuracy: 1.0000 - val_loss: 0.7707 - val_accuracy: 0.7998\n",
      "Epoch 6/10\n",
      "782/782 [==============================] - 2s 3ms/step - loss: 0.0011 - accuracy: 1.0000 - val_loss: 0.8133 - val_accuracy: 0.8052\n",
      "Epoch 7/10\n",
      "782/782 [==============================] - 2s 3ms/step - loss: 3.8607e-04 - accuracy: 1.0000 - val_loss: 0.8563 - val_accuracy: 0.8054\n",
      "Epoch 8/10\n",
      "782/782 [==============================] - 2s 3ms/step - loss: 2.1658e-04 - accuracy: 1.0000 - val_loss: 0.8993 - val_accuracy: 0.8054\n",
      "Epoch 9/10\n",
      "782/782 [==============================] - 2s 3ms/step - loss: 1.2570e-04 - accuracy: 1.0000 - val_loss: 0.9385 - val_accuracy: 0.8059\n",
      "Epoch 10/10\n",
      "782/782 [==============================] - 2s 3ms/step - loss: 7.9688e-05 - accuracy: 1.0000 - val_loss: 0.9789 - val_accuracy: 0.8055\n"
     ]
    }
   ],
   "source": [
    "num_epochs = 10\n",
    "history = model.fit(padded, training_labels_final, epochs=num_epochs, validation_data=(testing_padded, testing_labels_final))"
   ]
  },
  {
   "cell_type": "markdown",
   "metadata": {},
   "source": [
    "Now let's test out the model!"
   ]
  },
  {
   "cell_type": "code",
   "execution_count": 9,
   "metadata": {},
   "outputs": [
    {
     "name": "stdout",
     "output_type": "stream",
     "text": [
      "Review:I loved this movie. sentiment:[0.30702287]\n",
      "\n",
      "Review:This film is so boring. sentiment:[0.00095689]\n",
      "\n",
      "Review:This movie is so hilarious. I had a really great time! sentiment:[0.6895625]\n",
      "\n",
      "Review:Very linear scenario, no surprises at all sentiment:[0.17458868]\n",
      "\n",
      "Review:Another amazing addition to the franchise with good story arcs and standalone episodes. sentiment:[0.7190083]\n",
      "\n",
      "Review:Not for the hardened not even the casual fans. sentiment:[0.30911446]\n",
      "\n"
     ]
    }
   ],
   "source": [
    "new_sentences = [\n",
    "    'I loved this movie.',\n",
    "    'This film is so boring.',\n",
    "    'This movie is so hilarious. I had a really great time!',\n",
    "    'Very linear scenario, no surprises at all',\n",
    "    'Another amazing addition to the franchise with good story arcs and standalone episodes.',\n",
    "    'Not for the hardened not even the casual fans.'\n",
    "    ]\n",
    "new_sequences = tokenizer.texts_to_sequences(new_sentences)\n",
    "padded=pad_sequences(new_sequences, maxlen=max_length,truncating=trunc_type)\n",
    "output=model.predict(padded)\n",
    "for i in range(0,len(new_sentences)):\n",
    "    print('Review:'+new_sentences[i]+' '+'sentiment:'+str(output[i])+'\\n')"
   ]
  },
  {
   "cell_type": "code",
   "execution_count": 13,
   "metadata": {},
   "outputs": [],
   "source": [
    "model.save(dir_path+\"imdb_model.h5\")"
   ]
  }
 ],
 "metadata": {
  "kernelspec": {
   "display_name": "Python 3",
   "language": "python",
   "name": "python3"
  },
  "language_info": {
   "codemirror_mode": {
    "name": "ipython",
    "version": 3
   },
   "file_extension": ".py",
   "mimetype": "text/x-python",
   "name": "python",
   "nbconvert_exporter": "python",
   "pygments_lexer": "ipython3",
   "version": "3.6.9"
  }
 },
 "nbformat": 4,
 "nbformat_minor": 2
}
